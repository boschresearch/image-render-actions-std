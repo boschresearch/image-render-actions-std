{
 "cells": [
  {
   "cell_type": "code",
   "execution_count": 30,
   "metadata": {},
   "outputs": [
    {
     "name": "stdout",
     "output_type": "stream",
     "text": [
      "Importing CUPY...\n",
      "done\n",
      "3.7416573867739413\n"
     ]
    }
   ],
   "source": [
    "try:\n",
    "    print(\"Importing CUPY...\")\n",
    "    import cupy as cp\n",
    "\n",
    "    print(\"done\")\n",
    "except Exception as xEx:\n",
    "    print(\n",
    "        \"CUDA python module 'cupy' could not be imported.\\n\"\n",
    "        \"Make sure you have the NVIDIA CUDA toolkit installed and\\n\"\n",
    "        \"the 'cupy' module. See 'https://cupy.dev/' for more information.\\n\"\n",
    "        \"Note that if the 'pip' install does not work, try the 'conda' install option.\\n\\n\"\n",
    "        f\"Exception reported:\\n{(str(xEx))}\"\n",
    "    )\n",
    "# endtry\n",
    "\n",
    "import numpy as np\n",
    "\n",
    "aA = np.array([1,2,3])\n",
    "caA = cp.asarray(aA)\n",
    "fLen = cp.linalg.norm(caA)\n",
    "\n",
    "print(fLen)\n",
    "\n"
   ]
  },
  {
   "cell_type": "code",
   "execution_count": 31,
   "metadata": {},
   "outputs": [
    {
     "name": "stdout",
     "output_type": "stream",
     "text": [
      "fMaxImgVal: 255.0\n",
      "Image Shape: (1000, 1000, 3)\n",
      "Depth Shape: (1000, 1000)\n"
     ]
    }
   ],
   "source": [
    "import os\n",
    "os.environ[\"OPENCV_IO_ENABLE_OPENEXR\"] = \"1\"\n",
    "import cv2\n",
    "\n",
    "from typing import Tuple\n",
    "import numpy as np\n",
    "from pathlib import Path\n",
    "\n",
    "# Set the path from where all images can be found as environment variable \"CATH_DEV_MAIN\".\n",
    "# With PowerShell this can be done with: [System.Environment]::SetEnvironmentVariable(\"CATH_DEV_MAIN\", \"[path]\", \"User\")\n",
    "# You need to restart VS Code after setting the path from a VS Code terminal.\n",
    "sPathMain = os.environ[\"CATH_DEV_MAIN\"]\n",
    "pathMain = Path(sPathMain)\n",
    "# print(f\"Main path: {pathMain}\")\n",
    "\n",
    "pathImage = pathMain / \"Image\"\n",
    "pathDepth = pathMain / \"AT_Depth/full_res/Radial\"\n",
    "\n",
    "iFrame: int = 10\n",
    "\n",
    "def LoadImages(_iFrame:int) -> Tuple[np.ndarray, np.ndarray]:\n",
    "\n",
    "    sFrame = f\"Frame_{_iFrame:04d}\"\n",
    "    pathImgImage = pathImage / f\"{sFrame}.png\"\n",
    "    pathImgDepth = pathDepth / f\"{sFrame}.exr\"\n",
    "\n",
    "    imgImageOrig = cv2.imread(\n",
    "        pathImgImage.as_posix(),\n",
    "        cv2.IMREAD_ANYCOLOR | cv2.IMREAD_ANYDEPTH | cv2.IMREAD_UNCHANGED,\n",
    "    )\n",
    "\n",
    "    imgDepthOrig = cv2.imread(\n",
    "        pathImgDepth.as_posix(),\n",
    "        cv2.IMREAD_ANYCOLOR | cv2.IMREAD_ANYDEPTH | cv2.IMREAD_UNCHANGED,\n",
    "    )\n",
    "\n",
    "    imgImage = imgImageOrig[:, :, [2, 1, 0]]\n",
    "    # imgDepth = imgDepthOrig[:, :, [2, 1, 0, 3]]\n",
    "\n",
    "    return imgImage, imgDepthOrig\n",
    "# enddef\n",
    "\n",
    "imgImageOrig, imgDepth = LoadImages(iFrame)\n",
    "\n",
    "fMaxImgVal = float(np.iinfo(imgImageOrig.dtype).max)\n",
    "print(f\"fMaxImgVal: {fMaxImgVal}\")\n",
    "\n",
    "print(f\"Image Shape: {imgImageOrig.shape}\")\n",
    "print(f\"Depth Shape: {imgDepth.shape}\")\n",
    "\n",
    "# Scale image value to range [0, 1]\n",
    "# imgImage = imgImageOrig.astype(np.float32) / fMaxImgVal\n",
    "imgImage = imgImageOrig\n",
    "\n",
    "# aOffset = np.array([[[1e4, 1e4, 1e4]]])\n",
    "# imgPos1 = imgPos1 - aOffset\n",
    "# imgPos2 = imgPos2 - aOffset\n",
    "\n",
    "# imgLoc1 = imgLoc1 - aOffset\n",
    "# imgLoc2 = imgLoc2 - aOffset\n",
    "\n",
    "\n",
    "# print(np.min(imgPos1))\n",
    "# print(np.max(imgPos1))\n"
   ]
  },
  {
   "cell_type": "code",
   "execution_count": 4,
   "metadata": {},
   "outputs": [
    {
     "name": "stdout",
     "output_type": "stream",
     "text": [
      "CUDA device count: 1\n"
     ]
    }
   ],
   "source": [
    "print(f\"CUDA device count: {(cp.cuda.runtime.getDeviceCount())}\")"
   ]
  },
  {
   "cell_type": "code",
   "execution_count": 41,
   "metadata": {},
   "outputs": [
    {
     "data": {
      "text/plain": [
       "True"
      ]
     },
     "execution_count": 41,
     "metadata": {},
     "output_type": "execute_result"
    }
   ],
   "source": [
    "import sys\n",
    "from pathlib import Path\n",
    "\n",
    "pathKernel = Path.cwd() / \"Dev-EvalDepthBlurSimple-v1.cu\"\n",
    "sKernelCode = pathKernel.read_text()\n",
    "\n",
    "iThreadCnt = 32\n",
    "tiFilterRadiusXY = (10, 10)\n",
    "fFocusDepth_mm: float = 2.76e3\n",
    "fFocalLength_mm: float = 100.0\n",
    "fApertureDia_mm: float = 3.0\n",
    "fPixelPitch_mm: float = 3e-3\n",
    "fFocalPlanePos_mm: float = 1.0 / (1.0 / fFocalLength_mm - 1.0 / fFocusDepth_mm)\n",
    "fMMperDepthUnit: float = 1e3\n",
    "\n",
    "\n",
    "iDepthRows, iDepthCols = imgDepth.shape[0:2]\n",
    "if len(imgDepth.shape) > 2:\n",
    "    iDepthChanCnt = imgDepth.shape[2]\n",
    "else:\n",
    "    iDepthChanCnt = 1\n",
    "#endif\n",
    "iRowStrideDepth = iDepthCols * iDepthChanCnt\n",
    "\n",
    "iImgRows, iImgCols = imgImage.shape[0:2]\n",
    "if len(imgImage.shape) > 2:\n",
    "    iImgChanCnt = imgImage.shape[2]\n",
    "else:\n",
    "    iImgChanCnt = 1\n",
    "# endif\n",
    "iRowStrideImage = iImgCols * iImgChanCnt\n",
    "\n",
    "tiSizeXY = (iImgCols, iImgRows)\n",
    "# Full image\n",
    "tiStartXY = (0, 0)\n",
    "tiRangeXY = (iImgCols, iImgRows)\n",
    "\n",
    "tiRangeXY = tuple(tiRangeXY[i] if tiStartXY[i] + tiRangeXY[i] <= tiSizeXY[i] else tiSizeXY[i] - tiStartXY[0] for i in range(2))\n",
    "tiBlockDimXY = (tiRangeXY[0] // iThreadCnt + (1 if tiRangeXY[0] % iThreadCnt > 0 else 0), tiRangeXY[1])\n",
    "\n",
    "sFuncMbExp = (f\"EvalDepthBlurSimple<{tiStartXY[0]}, {tiStartXY[1]}, \"\n",
    "                f\"{tiRangeXY[0]}, {tiRangeXY[1]}, \"\n",
    "                f\"{tiSizeXY[0]}, {tiSizeXY[1]}, \"\n",
    "                f\"{tiFilterRadiusXY[0]}, {tiFilterRadiusXY[1]}, \"\n",
    "                f\"{iRowStrideImage}, {iRowStrideDepth}, \"\n",
    "                f\"{iImgChanCnt}, {iDepthChanCnt}>\")\n",
    "                \n",
    "modKernel = cp.RawModule(code=sKernelCode, options=(\"-std=c++11\",), name_expressions=[sFuncMbExp])\n",
    "# modKernel.compile(log_stream=sys.stdout)\n",
    "kernDepth = modKernel.get_function(sFuncMbExp)\n",
    "\n",
    "caImage = cp.asarray(imgImage, dtype=cp.float32)\n",
    "caDepth = cp.asarray(imgDepth, dtype=cp.float32)\n",
    "caResult = cp.full((iImgRows, iImgCols, iImgChanCnt), 0.0, dtype=cp.float32)\n",
    "\n",
    "tArgs = (caImage, \n",
    "         caDepth, \n",
    "         cp.float32(fFocusDepth_mm), \n",
    "         cp.float32(fFocalLength_mm), \n",
    "         cp.float32(fApertureDia_mm), \n",
    "         cp.float32(fPixelPitch_mm), \n",
    "         cp.float32(fFocalPlanePos_mm),\n",
    "         cp.float32(fMMperDepthUnit),\n",
    "         caResult)\n",
    "\n",
    "kernDepth(tiBlockDimXY, (iThreadCnt,), tArgs)\n",
    "\n",
    "imgResult = cp.asnumpy(caResult)\n",
    "imgResultWrite = imgResult[:, :, [2, 1, 0]] / fMaxImgVal\n",
    "cv2.imwrite((pathMain / f\"DepthBlur_{iFrame}.exr\").as_posix(), imgResultWrite)\n"
   ]
  },
  {
   "cell_type": "code",
   "execution_count": 29,
   "metadata": {},
   "outputs": [
    {
     "name": "stdout",
     "output_type": "stream",
     "text": [
      "[ 0.  1.  2.  3.  4.  5.  6.  7.  8.  9. 10.]\n",
      "[0.    0.003 0.006 0.009 0.012 0.015 0.018 0.021 0.024 0.027 0.03 ]\n",
      "fAiryDiskRad_mm: 0.01914828431372584\n",
      "aEnergyRatio: [1.         0.92181031 0.71595331 0.45458561 0.219233   0.06537794\n",
      " 0.0040217  0.00753889 0.03293235 0.04699792 0.03949074]\n"
     ]
    },
    {
     "data": {
      "image/png": "[encoded data removed]",
      "text/plain": [
       "<Figure size 640x480 with 1 Axes>"
      ]
     },
     "metadata": {},
     "output_type": "display_data"
    }
   ],
   "source": [
    "import matplotlib\n",
    "import numpy as np\n",
    "import matplotlib.pyplot as plt\n",
    "\n",
    "fDepthDelta_mm: float = 300\n",
    "fFocusDepth_mm: float = 2.76e3\n",
    "fFocalLength_mm: float = 200.0\n",
    "fApertureDia_mm: float = 5.0\n",
    "fPixelPitch_mm: float = 3e-3\n",
    "fFocalPlanePos_mm: float = 1.0 / (1.0 / fFocalLength_mm - 1.0 / fFocusDepth_mm)\n",
    "fMMperDepthUnit: float = 1e3\n",
    "fPi: float = 3.14159265358979323846\n",
    "\n",
    "def Func(aX_px: np.ndarray, fDepth_mm: float):\n",
    "\n",
    "    aX_mm = fPixelPitch_mm * aX_px\n",
    "    print(aX_mm)\n",
    "\n",
    "    fAiryDiskRad_mm = 0.5 * max(fPixelPitch_mm, abs((1.0 - fFocalPlanePos_mm * (1.0 / fFocalLength_mm - 1.0 / fDepth_mm))) * fApertureDia_mm)\n",
    "    print(f\"fAiryDiskRad_mm: {fAiryDiskRad_mm}\")\n",
    "\n",
    "    # aPixRadMin_mm = np.clip(aX_mm - 0.5 * fPixelPitch_mm, 0.0, fAiryDiskRad_mm)\n",
    "    # print(aPixRadMin_mm)\n",
    "\n",
    "    # aPixRadMax_mm = np.clip(aX_mm + 0.5 * fPixelPitch_mm, 0.0, fAiryDiskRad_mm)\n",
    "    # print(aPixRadMax_mm)\n",
    "\n",
    "    # aRadRatio = np.clip((aPixRadMax_mm - aPixRadMin_mm) / fAiryDiskRad_mm, 0.0, None)\n",
    "    # # aRadRatio = np.sinc(aX_mm / fAiryDiskRad_mm)\n",
    "    # print(f\"aRadRatio: {aRadRatio}\")\n",
    "\n",
    "    # aBandArea_mm2 = fPi * (np.square(aPixRadMax_mm)- np.square(aPixRadMin_mm))\n",
    "    # print(f\"aBandArea_mm2: {aBandArea_mm2}\")\n",
    "\n",
    "    # aPixPerBandArea = np.clip((fPixelPitch_mm * fPixelPitch_mm) / aBandArea_mm2, 0.0, 1.0)\n",
    "    # print(f\"aPixPerBandArea: {aPixPerBandArea}\")\n",
    "\n",
    "    # aEnergyRatio = aRadRatio * aPixPerBandArea\n",
    "    aEnergyRatio = np.square(np.sinc(aX_mm / fAiryDiskRad_mm))\n",
    "    print(f\"aEnergyRatio: {aEnergyRatio}\")\n",
    "\n",
    "    return aEnergyRatio\n",
    "# enddef\n",
    "\n",
    "aX_px = np.linspace(0, 10, 11)\n",
    "print(aX_px)\n",
    "\n",
    "aY = Func(aX_px, fFocusDepth_mm + fDepthDelta_mm)\n",
    "\n",
    "plt.plot(aX_px, aY)\n",
    "plt.show()\n",
    "\n"
   ]
  }
 ],
 "metadata": {
  "kernelspec": {
   "display_name": "cath3",
   "language": "python",
   "name": "python3"
  },
  "language_info": {
   "codemirror_mode": {
    "name": "ipython",
    "version": 3
   },
   "file_extension": ".py",
   "mimetype": "text/x-python",
   "name": "python",
   "nbconvert_exporter": "python",
   "pygments_lexer": "ipython3",
   "version": "3.10.10"
  },
  "orig_nbformat": 4
 },
 "nbformat": 4,
 "nbformat_minor": 2
}
