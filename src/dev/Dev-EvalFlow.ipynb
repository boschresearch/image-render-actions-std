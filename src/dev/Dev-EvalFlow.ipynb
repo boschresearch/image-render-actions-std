{
 "cells": [
  {
   "cell_type": "code",
   "execution_count": 2,
   "metadata": {},
   "outputs": [],
   "source": [
    "import os\n",
    "os.environ[\"OPENCV_IO_ENABLE_OPENEXR\"] = \"1\"\n",
    "import cv2\n",
    "\n",
    "import numpy as np\n",
    "from pathlib import Path\n",
    "\n",
    "pathMain = Path(r\"[main path]\")\n",
    "pathLocalPos3d = pathMain / \"AT_LocalPos3d_Raw\"\n",
    "pathObjectIdx = pathMain / \"AT_ObjectIdx_Raw\"\n",
    "pathObjectLoc3d = pathMain / \"AT_ObjectLoc3d_Raw\"\n",
    "pathLabel = pathMain / \"AT_Label/full_res/SemSeg\"\n",
    "\n",
    "sFrame1:str = \"Frame_0010.exr\"\n",
    "sFrame2:str = \"Frame_0011.exr\"\n",
    "\n",
    "def LoadImages(_sFrame:str):\n",
    "    pathImgLocalPos3d = pathLocalPos3d / _sFrame\n",
    "    pathImgObjectIdx = pathObjectIdx / _sFrame\n",
    "    pathImgObjectLoc3d = pathObjectLoc3d / _sFrame\n",
    "\n",
    "    imgLocalPos3d = cv2.imread(\n",
    "        pathImgLocalPos3d.as_posix(),\n",
    "        cv2.IMREAD_ANYCOLOR | cv2.IMREAD_ANYDEPTH | cv2.IMREAD_UNCHANGED,\n",
    "    )\n",
    "\n",
    "    imgObjectIdx = cv2.imread(\n",
    "        pathImgObjectIdx.as_posix(),\n",
    "        cv2.IMREAD_ANYCOLOR | cv2.IMREAD_ANYDEPTH | cv2.IMREAD_UNCHANGED,\n",
    "    )\n",
    "\n",
    "    imgObjectLoc3d = cv2.imread(\n",
    "        pathImgObjectLoc3d.as_posix(),\n",
    "        cv2.IMREAD_ANYCOLOR | cv2.IMREAD_ANYDEPTH | cv2.IMREAD_UNCHANGED,\n",
    "    )\n",
    "\n",
    "    return imgLocalPos3d, imgObjectIdx, imgObjectLoc3d\n",
    "# enddef\n",
    "\n",
    "imgPos1, imgObj1, imgLoc1 = LoadImages(sFrame1)\n",
    "imgPos2, imgObj2, imgLoc2 = LoadImages(sFrame2)\n",
    "\n",
    "aOffset = np.array([[[1e4, 1e4, 1e4]]])\n",
    "imgPos1 = imgPos1 - aOffset\n",
    "imgPos2 = imgPos2 - aOffset\n",
    "\n",
    "imgLoc1 = imgLoc1 - aOffset\n",
    "imgLoc2 = imgLoc2 - aOffset\n",
    "\n",
    "iChX: int = 2\n",
    "iChY: int = 1\n",
    "iChZ: int = 0\n",
    "\n",
    "# print(np.min(imgPos1))\n",
    "# print(np.max(imgPos1))\n"
   ]
  },
  {
   "cell_type": "code",
   "execution_count": 3,
   "metadata": {},
   "outputs": [],
   "source": [
    "iRows, iCols, iChan = imgObj1.shape\n",
    "imgObjFlat1 = imgObj1.reshape(-1, iChan)\n",
    "aU, aMaskObjIdx1 = np.unique(imgObjFlat1, axis=0, return_inverse=True)\n",
    "imgMaskObjIdx1 = aMaskObjIdx1.reshape(iRows, iCols)\n"
   ]
  },
  {
   "cell_type": "code",
   "execution_count": 4,
   "metadata": {},
   "outputs": [],
   "source": [
    "# imgObjFlat2 = imgObj2.reshape(-1, iChan)\n",
    "# aU2, aMaskObjIdx2 = np.unique(imgObjFlat2, axis=0, return_inverse=True)\n",
    "# imgMaskObjIdx2 = aMaskObjIdx2.reshape(iRows, iCols)\n"
   ]
  },
  {
   "cell_type": "code",
   "execution_count": null,
   "metadata": {},
   "outputs": [],
   "source": [
    "import matplotlib.pyplot as plt\n",
    "from scipy import spatial\n",
    "from scipy import interpolate\n",
    "\n",
    "iObjIdx = 2\n",
    "# plt.imshow(imgInv)\n",
    "imgMask1 = imgMaskObjIdx1 == iObjIdx\n",
    "imgObjPos1 = np.zeros((iRows, iCols, 4), dtype=float)\n",
    "imgObjPos1[imgMask1, 0:3] = imgPos1[imgMask1, :]\n",
    "imgObjPos1[imgMask1, 3] = 1.0\n",
    "plt.imshow(imgObjPos1)\n"
   ]
  },
  {
   "cell_type": "code",
   "execution_count": null,
   "metadata": {},
   "outputs": [],
   "source": [
    "\n",
    "imgMask2 = np.all(imgObj2 == aU[iObjIdx][np.newaxis, np.newaxis, :], axis=2)\n",
    "imgObjPos2 = np.zeros((iRows, iCols, 4), dtype=float)\n",
    "imgObjPos2[imgMask2, 0:3] = imgPos2[imgMask2, :]\n",
    "imgObjPos2[imgMask2, 3] = 1.0\n",
    "plt.imshow(imgObjPos2)\n"
   ]
  },
  {
   "cell_type": "code",
   "execution_count": 7,
   "metadata": {},
   "outputs": [],
   "source": [
    "aIdxFlat1 = np.argwhere(imgMask1)\n",
    "aPosFlat1 = imgPos1[imgMask1, :].reshape(-1, 3)\n",
    "aPosFlat2 = imgPos2[imgMask2, :].reshape(-1, 3)\n",
    "\n"
   ]
  },
  {
   "cell_type": "code",
   "execution_count": 8,
   "metadata": {},
   "outputs": [],
   "source": [
    "\n",
    "xTri2 = spatial.Delaunay(aPosFlat2)"
   ]
  },
  {
   "cell_type": "code",
   "execution_count": 9,
   "metadata": {},
   "outputs": [],
   "source": [
    "aMeshPixX, aMeshPixY = np.meshgrid(np.arange(0, iCols), np.arange(0, iRows))\n",
    "\n",
    "# Flatten mesh pixel coordinates and select only those of valid pixels\n",
    "aMask2 = imgMask2.flatten()\n",
    "aPixX = np.ndarray.flatten(aMeshPixX)[aMask2]\n",
    "aPixY = np.ndarray.flatten(aMeshPixY)[aMask2]\n",
    "\n",
    "# Calculate interpolators\n",
    "ipolX = interpolate.LinearNDInterpolator(xTri2, aPixX)\n",
    "ipolY = interpolate.LinearNDInterpolator(xTri2, aPixY)\n",
    "\n",
    "# Apply interpolation for norm colors of A to obtain mapped\n",
    "# pixel coordinates for image A in image B.\n",
    "aPixMapX = ipolX(aPosFlat1)\n",
    "aPixMapY = ipolY(aPosFlat1)\n"
   ]
  },
  {
   "cell_type": "code",
   "execution_count": 10,
   "metadata": {},
   "outputs": [],
   "source": [
    "\n",
    "# aPixRC = np.stack((aPixY, aPixX), axis=1)\n",
    "aPixMapXY = np.stack((aPixMapX, aPixMapY), axis=1)\n",
    "\n",
    "aPixMapMask = np.all(np.logical_not(np.isnan(aPixMapXY)), axis=1)\n",
    "\n",
    "aPixXY = aIdxFlat1[aPixMapMask][:,::-1]\n",
    "aPixMapXY = aPixMapXY[aPixMapMask]\n",
    "\n",
    "aFlowLines = np.stack((aPixXY, aPixMapXY), axis=1)\n",
    "\n"
   ]
  },
  {
   "cell_type": "code",
   "execution_count": 26,
   "metadata": {},
   "outputs": [
    {
     "data": {
      "text/plain": [
       "True"
      ]
     },
     "execution_count": 26,
     "metadata": {},
     "output_type": "execute_result"
    }
   ],
   "source": [
    "# Write flow image\n",
    "aFlowXY = aPixMapXY - aPixXY\n",
    "\n",
    "aIdxFlatMap1 = aIdxFlat1[aPixMapMask]\n",
    "aIdxPos = aIdxFlatMap1[:,0] * iCols + aIdxFlatMap1[:,1]\n",
    "\n",
    "imgValidMap = np.zeros((iRows, iCols), dtype=bool)\n",
    "aValidMapFlat = imgValidMap.flatten()\n",
    "aValidMapFlat[aIdxPos] = True\n",
    "imgValidMap = aValidMapFlat.reshape(iRows, iCols)\n",
    "\n",
    "# imgFlowMask1 = imgMask1.flatten()[aIdxFlatMap1].reshape(iRows, iCols)\n",
    "\n",
    "imgFlow = np.zeros((iRows, iCols, 4), dtype=np.float32)\n",
    "imgFlow[imgValidMap, iChX] = aFlowXY[:,0]\n",
    "imgFlow[imgValidMap, iChY] = aFlowXY[:,1]\n",
    "imgFlow[imgValidMap, iChZ] = iObjIdx\n",
    "imgFlow[imgValidMap, 3] = 1.0\n",
    "\n",
    "pathFlow = pathMain / \"Flow.exr\"\n",
    "cv2.imwrite(pathFlow.as_posix(), imgFlow)\n",
    "\n",
    "\n",
    "# plt.imshow(imgValidMap)"
   ]
  },
  {
   "cell_type": "code",
   "execution_count": null,
   "metadata": {},
   "outputs": [],
   "source": [
    "# Plot flow image\n",
    "from matplotlib.collections import LineCollection\n",
    "\n",
    "clnFlow = LineCollection(aFlowLines[::500], linewidths=1.0, cmap=\"jet\", alpha=0.5)\n",
    "\n",
    "figFlow, axFlow = plt.subplots()\n",
    "axFlow.imshow(imgObjPos1, alpha=0.5)\n",
    "axFlow.imshow(imgObjPos2, alpha=0.5)\n",
    "\n",
    "axFlow.add_collection(clnFlow)\n",
    "axFlow.set_xlim(0, iCols)\n",
    "axFlow.set_ylim(iRows, 0)\n",
    "axFlow.margins(0.1)\n"
   ]
  },
  {
   "cell_type": "code",
   "execution_count": null,
   "metadata": {},
   "outputs": [],
   "source": [
    "\n",
    "# imgObjPos2 = np.zeros((iRows, iCols, 4), dtype=float)\n",
    "# imgObjPos2[imgMask1, 0:3] = imgPos1[imgMask1, :]\n",
    "# imgObjPos2[imgMask1, 3] = 1.0\n",
    "# plt.imshow(imgObjPos1)\n",
    "\n",
    "# aMask = aMaskObjIdx == iObjIdx\n",
    "\n",
    "# aPos1 = imgPos1.reshape(-1, 3)[aMask]\n",
    "# aPos2 = imgPos2.reshape(-1, 3)[aMask]\n",
    "\n",
    "# aCol = np.linspace(0, iCols - 1, iCols)\n",
    "# aRow = np.linspace(0, iRows - 1, iRows)\n",
    "# aMeshPixX, aMeshPixY = np.meshgrid(aX, aY)\n",
    "\n",
    "\n",
    "# aMeshPixX, aMeshPixY = np.meshgrid(np.arange(0, iCols), np.arange(0, iRows))\n",
    "\n",
    "# # Flatten mesh pixel coordinates and select only those of valid pixels\n",
    "# aPixX = np.ndarray.flatten(aMeshPixX)[aMask]\n",
    "# aPixY = np.ndarray.flatten(aMeshPixY)[aMask]\n"
   ]
  },
  {
   "cell_type": "code",
   "execution_count": null,
   "metadata": {},
   "outputs": [],
   "source": []
  },
  {
   "cell_type": "code",
   "execution_count": null,
   "metadata": {},
   "outputs": [],
   "source": [
    "imgDx = imgObjPos1\n",
    "plt.imshow(imgDx)"
   ]
  },
  {
   "cell_type": "code",
   "execution_count": 8,
   "metadata": {},
   "outputs": [],
   "source": [
    "aCol = np.linspace(0, iCols - 1, iCols)\n",
    "aRow = np.linspace(0, iRows - 1, iRows)\n",
    "\n",
    "ipolObjPos1 = interpolate.RegularGridInterpolator((aRow, aCol), imgObjPos1)\n"
   ]
  },
  {
   "cell_type": "code",
   "execution_count": null,
   "metadata": {},
   "outputs": [],
   "source": [
    "aVals = "
   ]
  },
  {
   "cell_type": "code",
   "execution_count": 9,
   "metadata": {},
   "outputs": [],
   "source": [
    "\n",
    "# Triangulate image data of B\n",
    "# Takes ages!\n",
    "# xTri2 = spatial.Delaunay(aPos2) #, qhull_options=\"QJ Qbb\")\n"
   ]
  },
  {
   "cell_type": "code",
   "execution_count": null,
   "metadata": {},
   "outputs": [],
   "source": [
    "\n",
    "# Calculate interpolators\n",
    "xInterX = interpolate.LinearNDInterpolator(xTri2, aPixX)\n",
    "xInterY = interpolate.LinearNDInterpolator(xTri2, aPixY)\n",
    "\n",
    "# Apply interpolation for norm colors of A to obtain mapped\n",
    "# pixel coordinates for image A in image B.\n",
    "aPixMapX = xInterX(aPos1)\n",
    "aPixMapY = xInterY(aPos1)\n",
    "\n",
    "# Calculate difference between mapped and original pixel positions\n",
    "aPixDiffX = aPixX - aPixMapX\n",
    "aPixDiffY = aPixY - aPixMapY\n"
   ]
  }
 ],
 "metadata": {
  "kernelspec": {
   "display_name": "cath3",
   "language": "python",
   "name": "python3"
  },
  "language_info": {
   "codemirror_mode": {
    "name": "ipython",
    "version": 3
   },
   "file_extension": ".py",
   "mimetype": "text/x-python",
   "name": "python",
   "nbconvert_exporter": "python",
   "pygments_lexer": "ipython3",
   "version": "3.10.6"
  },
  "orig_nbformat": 4
 },
 "nbformat": 4,
 "nbformat_minor": 2
}
