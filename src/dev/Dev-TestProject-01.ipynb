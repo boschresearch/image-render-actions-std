{
 "cells": [
  {
   "cell_type": "code",
   "execution_count": null,
   "metadata": {},
   "outputs": [],
   "source": [
    "import os\n",
    "from matplotlib import pyplot as plt\n",
    "from matplotlib.patches import Circle\n",
    "from pathlib import Path\n",
    "\n",
    "# need to enable OpenExr explicitly\n",
    "os.environ[\"OPENCV_IO_ENABLE_OPENEXR\"] = \"1\"\n",
    "import cv2\n",
    "\n",
    "pathMain = Path(r\"[main path]\")\n",
    "pathImg = pathMain / \"Image\"\n",
    "pathImgFile = pathImg / \"Frame_0010.png\"\n",
    "\n",
    "imgX = cv2.imread(\n",
    "    pathImgFile.as_posix(),\n",
    "    cv2.IMREAD_ANYCOLOR | cv2.IMREAD_ANYDEPTH | cv2.IMREAD_UNCHANGED,\n",
    ")\n",
    "\n",
    "figImg, axImg = plt.subplots(1, figsize=(10, 10))\n",
    "# axImg.set_aspect(\"equal\")\n",
    "lPnt = [\n",
    "    191.55869638595934,\n",
    "    475.2454112479079\n",
    "]\n",
    "\n",
    "xPnt = Circle(tuple(x - 0.5 for x in lPnt), 12, fill=False)\n",
    "\n",
    "axImg.imshow(imgX)\n",
    "axImg.add_patch(xPnt)\n",
    "plt.savefig(pathMain / \"test.png\", dpi=500)\n",
    "\n"
   ]
  },
  {
   "cell_type": "code",
   "execution_count": null,
   "metadata": {},
   "outputs": [],
   "source": [
    "import numpy as np\n",
    "figImg, axImg = plt.subplots(1, figsize=(10, 10))\n",
    "\n",
    "xPnt = Circle((2, 2), 2, fill=False)\n",
    "\n",
    "imgX = np.random.rand(5,5)\n",
    "axImg.imshow(imgX)\n",
    "axImg.add_patch(xPnt)\n",
    "axImg.plot([0, 1], [0, 1])\n"
   ]
  }
 ],
 "metadata": {
  "kernelspec": {
   "display_name": "cath3",
   "language": "python",
   "name": "python3"
  },
  "language_info": {
   "codemirror_mode": {
    "name": "ipython",
    "version": 3
   },
   "file_extension": ".py",
   "mimetype": "text/x-python",
   "name": "python",
   "nbconvert_exporter": "python",
   "pygments_lexer": "ipython3",
   "version": "3.10.6"
  },
  "orig_nbformat": 4
 },
 "nbformat": 4,
 "nbformat_minor": 2
}
