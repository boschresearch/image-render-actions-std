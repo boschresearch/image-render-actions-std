{
 "cells": [
  {
   "cell_type": "code",
   "execution_count": null,
   "metadata": {},
   "outputs": [],
   "source": [
    "import os\n",
    "import subprocess\n",
    "from anybase import shell\n",
    "\n",
    "# pResult = subprocess.run([\"bsub\"], stdout=subprocess.PIPE, encoding=\"ascii\")\n",
    "# print(pResult.stdout)\n",
    "print(os.environ[\"PATH\"])\n",
    "\n",
    "shell.ExecCmd(\n",
    "    sCmd=(\n",
    "        \"export PATH=$PATH:/usr/bin:/usr/sbin:/usr/local/bin:/usr/local/sbin;\"\n",
    "        \"echo $PATH;\"\n",
    "        \"source ~/.bashrc;\"\n",
    "        \"echo '------';\"\n",
    "        \"echo $PATH\"\n",
    "    ),\n",
    "    bDoPrint=True,\n",
    ")"
   ]
  }
 ],
 "metadata": {
  "kernelspec": {
   "display_name": "Python 3.10.4 ('cath3')",
   "language": "python",
   "name": "python3"
  },
  "language_info": {
   "codemirror_mode": {
    "name": "ipython",
    "version": 3
   },
   "file_extension": ".py",
   "mimetype": "text/x-python",
   "name": "python",
   "nbconvert_exporter": "python",
   "pygments_lexer": "ipython3",
   "version": "3.10.4"
  },
  "orig_nbformat": 4,
  "vscode": {
   "interpreter": {
    "hash": "3547878ce667ed37d6b84c82efe0fefad08c8a2de8647fed5c15dddb91516ef5"
   }
  }
 },
 "nbformat": 4,
 "nbformat_minor": 2
}
